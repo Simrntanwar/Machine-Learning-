{
  "nbformat": 4,
  "nbformat_minor": 0,
  "metadata": {
    "colab": {
      "provenance": [],
      "toc_visible": true
    },
    "kernelspec": {
      "name": "python3",
      "display_name": "Python 3"
    },
    "language_info": {
      "name": "python"
    }
  },
  "cells": [
    {
      "cell_type": "markdown",
      "source": [
        "Introduction to Machine Learning;\n",
        "Assignment-1;\n",
        "Simran Tanwar;\n",
        "20d070078\n"
      ],
      "metadata": {
        "id": "E08IOMyG00Lg"
      }
    },
    {
      "cell_type": "code",
      "source": [
        "import numpy as np\n",
        "#importing numpy module\n",
        "import matplotlib.pyplot as plt\n",
        "#importing matplotlib.pyplot module for plotting\n",
        "import time\n",
        "#importing time module to calculate time"
      ],
      "metadata": {
        "id": "M6ybjhzV2YJy"
      },
      "execution_count": 388,
      "outputs": []
    },
    {
      "cell_type": "markdown",
      "source": [
        "# Q1.Write a function to generate a data amtrix X. Inputs:Number of samples, feature dimension. Output: Data Matrix X."
      ],
      "metadata": {
        "id": "twkzlYkq0_Ia"
      }
    },
    {
      "cell_type": "code",
      "source": [
        "#defining a function to compute data matrix with random values with feature dimension(f) as no. of columns and no. of samples(n) as no. of rows.\n",
        "def data_matrix(n, f):\n",
        "  #Return a sample (or samples) from the “standard normal” distribution.\n",
        "  #source:numpy.org\n",
        "  X = np.random.randn(n,f)\n",
        "  return X"
      ],
      "metadata": {
        "id": "rDCjKOpGZVnx"
      },
      "execution_count": 389,
      "outputs": []
    },
    {
      "cell_type": "code",
      "source": [
        "#generating a data matrix with feature dimension = 5 and no. of samples = 4\n",
        "X = data_matrix(4,5)\n",
        "print('data matrix(X):')\n",
        "print(X)"
      ],
      "metadata": {
        "colab": {
          "base_uri": "https://localhost:8080/"
        },
        "id": "rYT52myFZzXL",
        "outputId": "2d0f5f97-e7b8-46b4-fd29-3ba493733c52"
      },
      "execution_count": 390,
      "outputs": [
        {
          "output_type": "stream",
          "name": "stdout",
          "text": [
            "data matrix(X):\n",
            "[[ 0.33030462  1.52545955  0.6140807   2.49127946  1.23569448]\n",
            " [-0.29842955  1.50462262 -0.21430496 -0.64830476 -1.56349796]\n",
            " [ 2.00078192  1.23941569  1.61309082  0.82187339  0.02840696]\n",
            " [-0.95538538 -1.62635743 -2.07951599 -1.29830648 -0.01145073]]\n"
          ]
        }
      ]
    },
    {
      "cell_type": "markdown",
      "source": [
        "# Q2.Write a function to generate dependent variable column t.\n",
        "(a) Inputs: Data matrix X, weight vector for each column, bias w0, noise variance.\n",
        "(b) Output: Target vector t"
      ],
      "metadata": {
        "id": "f-Ow7eM0blqx"
      }
    },
    {
      "cell_type": "code",
      "source": [
        "#defining a function to generate dependent variable column t from data matrix X, weight vector for each column(w), bias w0 and noise variance(v)\n",
        "def generate_t(X, w, w0, var):\n",
        "  #calculating y which is inner product of w transpose and X, added to w0\n",
        "  #not taking wT as python will not make it column vector so taking dot product of X and w\n",
        "  y = np.dot(X,w) + w0\n",
        "  # since t = y + e, where e can be gaussian distribution, e is basically the loss\n",
        "  # we take e as Gaussian distribution with mean 0, output shape is no. of samples\n",
        "  #source : numpy.org\n",
        "  sd = var**0.5# calculating standard deviation\n",
        "  t = y + np.random.normal(0, sd, X.shape[0])# generating dependent variable t, dim : 4x1\n",
        "  return t"
      ],
      "metadata": {
        "id": "FscTq9_bSNBc"
      },
      "execution_count": 391,
      "outputs": []
    },
    {
      "cell_type": "code",
      "source": [
        "#Example:\n",
        "#I am taking X generated earlier as data matrix \n",
        "#Since weight vector has bias in it so its dimension is always 1 greater than feature dimension of data matrix\n",
        "w = np.random.rand(X.shape[1]+1)# generating random weight vector of dimension 1 x (X.shape[1] + 1)\n",
        "w0 = w[0]# bias(w0) = 0.5\n",
        "var = 0.01# noise_variance = 0.01\n",
        "t = generate_t(X, w[1:], w0, var) # generating t using the above defined function\n",
        "print('target vector(t):')\n",
        "print(t)"
      ],
      "metadata": {
        "colab": {
          "base_uri": "https://localhost:8080/"
        },
        "id": "tEMIrMVUbv5m",
        "outputId": "e72e90fb-10d2-4df3-b5ca-dc8cecd618b5"
      },
      "execution_count": 392,
      "outputs": [
        {
          "output_type": "stream",
          "name": "stdout",
          "text": [
            "target vector(t):\n",
            "[ 4.33709405 -1.30408826  3.0828618  -2.85380501]\n"
          ]
        }
      ]
    },
    {
      "cell_type": "markdown",
      "source": [
        "# Q3.Write a function to compute a linear regression estimate. \n",
        "a)Input: data matrix X and weight vector w\n",
        "b)Output: y"
      ],
      "metadata": {
        "id": "4upCY-X2_M_k"
      }
    },
    {
      "cell_type": "code",
      "source": [
        "#defining a function to compute linear regression estimate with input data matrix(X) and weight vector w and output y\n",
        "def linear_reg_estimate(X, w):\n",
        "  y = np.dot(X,w)#The variable y is computed by taking the dot product of X and w.\n",
        "  return y\n",
        "#Note that this function is a simple linear regression estimator, it does not include bias term, regularization or other advanced features. \n",
        "#It is a basic version of linear regression model."
      ],
      "metadata": {
        "id": "kFR7RsdsAp-C"
      },
      "execution_count": 393,
      "outputs": []
    },
    {
      "cell_type": "code",
      "source": [
        "#example for above function is:\n",
        "#X = same data matrix I computed above\n",
        "w = np.random.rand(X.shape[1]+1)# generating random weight vector of dimension 1 x (X.shape[1]+1)\n",
        "y = linear_reg_estimate(X,w[1:])# computing y without bias term\n",
        "print('linear rgression estimate output(y):')\n",
        "print(y)"
      ],
      "metadata": {
        "colab": {
          "base_uri": "https://localhost:8080/"
        },
        "id": "l0Hsl8t3CaWN",
        "outputId": "de59b1e8-7605-4dd4-e36c-13d76273a787"
      },
      "execution_count": 394,
      "outputs": [
        {
          "output_type": "stream",
          "name": "stdout",
          "text": [
            "linear rgression estimate output(y):\n",
            "[ 1.91684231 -0.84815386  0.98138895 -1.07308264]\n"
          ]
        }
      ]
    },
    {
      "cell_type": "markdown",
      "source": [
        "# Q4. Write a function to compute the mean square error of two vectors y and t."
      ],
      "metadata": {
        "id": "_czr3YI5Dmrd"
      }
    },
    {
      "cell_type": "code",
      "source": [
        "#defining a function to compute mean square error of the 2 vectors y and t\n",
        "def mse(y,t):\n",
        "  l = len(y)#length of y or we can also use length of t as both will be same\n",
        "  #take sum of error square, where error is y-t\n",
        "  squared_sum = np.sum(np.square(y-t)) \n",
        "  mse = squared_sum/l#mean square error is (1/l)*squared_sum\n",
        "  return mse"
      ],
      "metadata": {
        "id": "ie1v_ZHFENuJ"
      },
      "execution_count": 395,
      "outputs": []
    },
    {
      "cell_type": "code",
      "source": [
        "Mean_square_error = mse(y,t)#calculating mse for above computed y and t\n",
        "print('mean square error:')\n",
        "print(Mean_square_error)"
      ],
      "metadata": {
        "colab": {
          "base_uri": "https://localhost:8080/"
        },
        "id": "y4UCk6-F0Tvd",
        "outputId": "a0257c85-281b-4ee9-f2de-fd05167433ec"
      },
      "execution_count": 396,
      "outputs": [
        {
          "output_type": "stream",
          "name": "stdout",
          "text": [
            "mean square error:\n",
            "3.4131637287860235\n"
          ]
        }
      ]
    },
    {
      "cell_type": "markdown",
      "source": [
        "# Q5.Write a function to estimate the weights of linear regression using pseudo-inverse, assuming L2 regularization:\n",
        "a)Input: X, t, and lambda\n",
        "b)Output: W, MSE, Y"
      ],
      "metadata": {
        "id": "9n8VRbTw2kpA"
      }
    },
    {
      "cell_type": "code",
      "source": [
        "#defining a function to estimate the weights of linear regression using pseudo-inverse, assuming L2 regularization\n",
        "def estimate_weights_L2_reg(X,t,lam):\n",
        "  #create an array with dimensions of X with one extra column with all values one\n",
        "  #because we want to estimate weight vector, in which bias term(w0) will also be there \n",
        "  X_n = np.ones((X.shape[0],X.shape[1]+1))\n",
        "  #X_n is a matrix with all values equal to our data matrix with one extra column with all values in that column 1\n",
        "  X_n[:,1:] = X #dimension of X_n will be (n,f+1)\n",
        "\n",
        "  #Now we want to estimate weight vector(w)\n",
        "  # w = (lambda*I + X_n.T*X)^(-1).(X_n.T).t\n",
        "  u = X_n.shape[1] #to get the dimension of Identity matrix\n",
        "  I = np.identity(u) #identity matrix, source:numpy.org\n",
        "  #dimensions of I matrix = (f+1,f+1)\n",
        "  b = lam*I + np.dot(X_n.T,X_n) #we need inverse of this matrix to estimate w\n",
        "  b_i = np.linalg.inv(b) #taking inverse of b\n",
        "  # source: https://numpy.org/doc/stable/reference/generated/numpy.linalg.inv.html\n",
        "  w = np.dot(np.dot(b_i, X_n.T), t) #weight vector = [(lam*I + X_n.T.X)^-1].X_n.T.t(pseudo inverse)\n",
        "  y = linear_reg_estimate(X,w[1:]) #computing y\n",
        "  mse_n = mse(y,t) #computing MSE\n",
        "  return w, mse_n, y"
      ],
      "metadata": {
        "id": "wCJ2ZeXr7Qcg"
      },
      "execution_count": 397,
      "outputs": []
    },
    {
      "cell_type": "code",
      "source": [
        "weights = estimate_weights_L2_reg(X,t,2) #estimating weight vector for above data matrix(X) and target vector(t)\n",
        "print('Estimated Weight vector:')\n",
        "print(weights[0])\n",
        "print('MSE:')\n",
        "print(weights[1])\n",
        "print('Y:')\n",
        "print(weights[2])"
      ],
      "metadata": {
        "colab": {
          "base_uri": "https://localhost:8080/"
        },
        "id": "-wUWRlUTEp6H",
        "outputId": "d1dfaf05-1cc2-4b2b-fca8-9fea5608f53c"
      },
      "execution_count": 398,
      "outputs": [
        {
          "output_type": "stream",
          "name": "stdout",
          "text": [
            "Estimated Weight vector:\n",
            "[0.16870761 0.41107341 0.3240982  0.4511068  0.84346461 0.55403837]\n",
            "MSE:\n",
            "0.15733983387643305\n",
            "Y:\n",
            "[ 3.69312234 -1.14476539  2.66079654 -2.95933656]\n"
          ]
        }
      ]
    },
    {
      "cell_type": "markdown",
      "source": [
        "# Q6. Write a function to compute the gradient of MSE with respect to its weight vector.\n",
        "a)Input: X matrix, t vector, and w vector\n",
        "b)Output: gradient vector"
      ],
      "metadata": {
        "id": "BC_CBeacFJPa"
      }
    },
    {
      "cell_type": "code",
      "source": [
        "#defining a funtion to compute the gradient of MSE with respect to itw weight vector\n",
        "def gradient_mse(X,t,w):\n",
        "  #create an array with dimensions of X with one extra column with all values one\n",
        "  #because we want to estimate weight vector, in which bias term(w0) will also be there\n",
        "  X_n = np.ones((X.shape[0],X.shape[1]+1))\n",
        "  #X_n is a matrix with all values equal to our data matrix with one extra column with all values in that column 1\n",
        "  X_n[:,1:] = X #dimension of X_n will be (n,f+1)\n",
        "  #we are computing gradient of MSE which is (t - wT.X).X/l\n",
        "  y = np.dot(X_n,w)\n",
        "  l = len(y) #no of elements in y\n",
        "  gradient = np.dot((y-t),X_n)/l\n",
        "  #dimension of gradient(f+1,1) i.e. same as weight vector\n",
        "  return gradient"
      ],
      "metadata": {
        "id": "9etasEdiF7-b"
      },
      "execution_count": 399,
      "outputs": []
    },
    {
      "cell_type": "code",
      "source": [
        "#example using above X ,t and w\n",
        "gradient = gradient_mse(X,t,w)\n",
        "print('Gradient of MSE:')\n",
        "print(gradient)"
      ],
      "metadata": {
        "colab": {
          "base_uri": "https://localhost:8080/"
        },
        "id": "9y6Kr_sKcbTg",
        "outputId": "713f45d9-2fa8-46c0-e4af-94a8e790db35"
      },
      "execution_count": 400,
      "outputs": [
        {
          "output_type": "stream",
          "name": "stdout",
          "text": [
            "Gradient of MSE:\n",
            "[-0.22283525 -1.61649851 -1.89643061 -2.17501721 -2.47200737 -0.97298507]\n"
          ]
        }
      ]
    },
    {
      "cell_type": "markdown",
      "source": [
        "# Q7. Write a function to compute L2 norm of a vector w passed as a numpy array. Exclude bias w0."
      ],
      "metadata": {
        "id": "VSVGRVhQgoy8"
      }
    },
    {
      "cell_type": "code",
      "source": [
        "#defining a function to comupte L2 norm of vector w excluding bias w0\n",
        "def L2_norm_w(w):\n",
        "  #L2 norm of w is square root of |w0|^2 + |w1|^2 + |w3|^2 + ....\n",
        "  #since we need L2 norm excluding bias w0 then our L2 norm will be square root of |w1|^2 + |w3|^2 + ....\n",
        "  #exclude bias w0 by slicing the array\n",
        "  w_without_bias_2 = w[1:] #w without bias w0\n",
        "  L2_norm = np.sqrt(np.sum(np.square(w_without_bias_2))) #source:numpy.org\n",
        "  return L2_norm"
      ],
      "metadata": {
        "id": "ipxXC8CzgqnK"
      },
      "execution_count": 401,
      "outputs": []
    },
    {
      "cell_type": "code",
      "source": [
        "#example\n",
        "#using w_a\n",
        "w_a = [1, 1,-2,3]\n",
        "norm_L2_w = L2_norm_w(w_a)\n",
        "print('L2 norm of w without bias:')\n",
        "print(norm_L2_w)\n"
      ],
      "metadata": {
        "colab": {
          "base_uri": "https://localhost:8080/"
        },
        "id": "KssHByu2jvT9",
        "outputId": "05124d73-8403-48e5-81ed-8de9843b43ac"
      },
      "execution_count": 402,
      "outputs": [
        {
          "output_type": "stream",
          "name": "stdout",
          "text": [
            "L2 norm of w without bias:\n",
            "3.7416573867739413\n"
          ]
        }
      ]
    },
    {
      "cell_type": "markdown",
      "source": [
        "#Q8.Write a function to compute the gradient of L2 norm with respect to the weight vectors.\n",
        "a) Input: X matrix and w vector\n",
        "b) Output: gradient vector, where gradient with respect to w0 is 0."
      ],
      "metadata": {
        "id": "yT5ZjjKclX50"
      }
    },
    {
      "cell_type": "code",
      "source": [
        "def L2_norm_gradient(w):\n",
        "    #Exclude bias w0 by slicing the array\n",
        "    w_without_bias_2g = w[1:]\n",
        "    #Create a zero array of the same shape as w, since gradient wrt w0 is 0\n",
        "    #therefore the first element of gradient vector will be 0\n",
        "    gradient = np.zeros(len(w))\n",
        "    #Compute the gradient of L2 norm for w, excluding the bias w0\n",
        "    gradient[1:] = w_without_bias_2g/L2_norm_w(w)\n",
        "    return gradient\n"
      ],
      "metadata": {
        "id": "nyih388gllEi"
      },
      "execution_count": 403,
      "outputs": []
    },
    {
      "cell_type": "code",
      "source": [
        "#example using the above computed w_a\n",
        "grad_L2_norm_w = L2_norm_gradient(w_a)\n",
        "print('Gradient of L2 norm with respect to w:')\n",
        "print(grad_L2_norm_w)"
      ],
      "metadata": {
        "colab": {
          "base_uri": "https://localhost:8080/"
        },
        "id": "Ayn4y_X3lndZ",
        "outputId": "95f36a2a-45cf-4dfd-93ba-0636c61219c5"
      },
      "execution_count": 404,
      "outputs": [
        {
          "output_type": "stream",
          "name": "stdout",
          "text": [
            "Gradient of L2 norm with respect to w:\n",
            "[ 0.          0.26726124 -0.53452248  0.80178373]\n"
          ]
        }
      ]
    },
    {
      "cell_type": "markdown",
      "source": [
        "# Q9. Write a function to compute L1 norm of a vector w passed as a numpy array. Exclude bias w0."
      ],
      "metadata": {
        "id": "7rc1hWrKuBIX"
      }
    },
    {
      "cell_type": "code",
      "source": [
        "#defining a function to compute L1 norm of a vector w, excluding bias w0\n",
        "def L1_norm_w(w):\n",
        "  #exclude bias w0 by slicing the array\n",
        "  w_without_bias = w[1:]\n",
        "  #L1 norm is sum of the absolute values of all the term that means |w1| + |w2| + |w3| +....\n",
        "  sum = np.sum(np.abs(w_without_bias)) #abs() for taking absolute values and np.sum() to sum all the terms\n",
        "  return sum\n"
      ],
      "metadata": {
        "id": "tERguJZawCp8"
      },
      "execution_count": 405,
      "outputs": []
    },
    {
      "cell_type": "code",
      "source": [
        "#Example, using the w_a computed above\n",
        "norm_L1_w = L1_norm_w(w_a)\n",
        "print('L1 norm of w, excluding bias w0:')\n",
        "print(norm_L1_w)"
      ],
      "metadata": {
        "colab": {
          "base_uri": "https://localhost:8080/"
        },
        "id": "byiJ5O5BwYap",
        "outputId": "e9452c7e-3c16-4558-cfbf-27b9020980cb"
      },
      "execution_count": 406,
      "outputs": [
        {
          "output_type": "stream",
          "name": "stdout",
          "text": [
            "L1 norm of w, excluding bias w0:\n",
            "6\n"
          ]
        }
      ]
    },
    {
      "cell_type": "markdown",
      "source": [
        "# Q10.Write a function to compute the gradient of L1 norm with respect to the weight vectors.\n",
        "a)Input: X matrix and w vector\n",
        "b)Output: gradient vector, where gradient with respect to w0 is 0."
      ],
      "metadata": {
        "id": "Zw1GEqDIxdgx"
      }
    },
    {
      "cell_type": "code",
      "source": [
        "def L1_norm_gradient(w):\n",
        "    #Exclude bias w0 by slicing the array\n",
        "    w_without_bias = w[1:]\n",
        "    #Create a zero array of the same shape as w, since gradient wrt w0 is 0\n",
        "    #therefore the first element of gradient vector will be 0\n",
        "    gradient = np.zeros(len(w))\n",
        "    #Compute the gradient of L2 norm for w, excluding the bias w0\n",
        "    #np.sign() : Returns an element-wise indication of the sign of a number.\n",
        "    #The sign function returns -1 if x < 0, 0 if x==0, 1 if x > 0.\n",
        "    #source : https://numpy.org/doc/stable/reference/generated/numpy.sign.html\n",
        "    gradient[1:] = np.sign(w[1:])\n",
        "    return gradient"
      ],
      "metadata": {
        "id": "RsS7pj2Dx1I7"
      },
      "execution_count": 407,
      "outputs": []
    },
    {
      "cell_type": "code",
      "source": [
        "#example using the above computed w\n",
        "grad_L1_norm_w = L1_norm_gradient(w_a)\n",
        "print('Gradient of L1 norm with respect to w:')\n",
        "print(grad_L1_norm_w)"
      ],
      "metadata": {
        "colab": {
          "base_uri": "https://localhost:8080/"
        },
        "id": "YVcZcgB9mSsC",
        "outputId": "6ad777f2-aa5f-4932-d64a-5c788c331e88"
      },
      "execution_count": 408,
      "outputs": [
        {
          "output_type": "stream",
          "name": "stdout",
          "text": [
            "Gradient of L1 norm with respect to w:\n",
            "[ 0.  1. -1.  1.]\n"
          ]
        }
      ]
    },
    {
      "cell_type": "markdown",
      "source": [
        "# Q11. Write a function for a single update of weights of linear regression using gradient descent. \n",
        "a) Input: X, t, w, eta, lambda 2, lambda 1. Note that the weight of MSE will be 1 b)\n",
        "Output: updated weight and updated MSE"
      ],
      "metadata": {
        "id": "TghtwUjrx1tw"
      }
    },
    {
      "cell_type": "code",
      "source": [
        "#defining a function for a single update of weights of linear regression using gradient descent\n",
        "#weight of MSE is 1\n",
        "def linear_regression_update(X,t,w,eta,lam1,lam2):\n",
        "  #create an array with dimensions of X with one extra column with all values one\n",
        "  #because we want to estimate weight vector, in which bias term(w0) will also be there\n",
        "  X_n = np.ones((X.shape[0],X.shape[1]+1))\n",
        "  #X_n is a matrix with all values equal to our data matrix with one extra column with all values in that column 1\n",
        "  X_n[:,1:] = X #dimension of X_n will be (n,f+1)\n",
        "  #computing gradient of MSE using defined function in Q6\n",
        "  grad_MSE = gradient_mse(X,t,w)\n",
        "  #computing gradient of L2_norm wrt w using defined function in Q8\n",
        "  grad_L2_norm = L2_norm_gradient(w)\n",
        "  #computing gradient of L1_norm wrt w using defined fucntion in Q10\n",
        "  grad_L1_norm = L1_norm_gradient(w)\n",
        "  #computing updated w using formula w(old) - eta(gradient of(MSE + lambda1*L1norm + lambda2*L2norm))\n",
        "  w_new = w - eta*(grad_MSE + lam1*grad_L1_norm + lam2*grad_L2_norm)\n",
        "  #computing new y using defined function in Q3 with w_new as input\n",
        "  y_new = linear_reg_estimate(X_n, w_new)\n",
        "  #computing updated MSE using defined function in Q4 with new y as input\n",
        "  updated_MSE = mse(y_new,t)\n",
        "  return w_new, updated_MSE"
      ],
      "metadata": {
        "id": "0y0LPXvInYSS"
      },
      "execution_count": 409,
      "outputs": []
    },
    {
      "cell_type": "code",
      "source": [
        "#example using above X,t and w\n",
        "#eta = 0.1\n",
        "#lam1 = 0.01 and lam2 = 0.01\n",
        "updated_linear_regression = linear_regression_update(X,t,w,0.1,0.01,0.01)\n",
        "print('w_old:')\n",
        "print(w)\n",
        "print('Old MSE:')\n",
        "print(Mean_square_error)\n",
        "print('updated_linear_regression:')\n",
        "print('update_w:')\n",
        "print(updated_linear_regression[0])\n",
        "print('updated_MSE:')\n",
        "print(updated_linear_regression[1])"
      ],
      "metadata": {
        "colab": {
          "base_uri": "https://localhost:8080/"
        },
        "id": "txLZ7E4kvGhc",
        "outputId": "00bab290-3cbd-4b52-b527-7bbd4b24924f"
      },
      "execution_count": 410,
      "outputs": [
        {
          "output_type": "stream",
          "name": "stdout",
          "text": [
            "w_old:\n",
            "[0.3484317  0.15344881 0.23931056 0.08284925 0.27567806 0.61781589]\n",
            "Old MSE:\n",
            "3.4131637287860235\n",
            "updated_linear_regression:\n",
            "update_w:\n",
            "[0.37071523 0.31389087 0.42762957 0.29923879 0.5215055  0.7132778 ]\n",
            "updated_MSE:\n",
            "0.6131774493034324\n"
          ]
        }
      ]
    },
    {
      "cell_type": "markdown",
      "source": [
        "#Q12. Write a function to estimate the weights of linear regression using gradient descent. \n",
        "a)Inputs: X, t, lambda2 (default 0), lambda1 (default 0), eta, max_iter, min_change_NRMSE\n",
        "b)Output: Final w, final RMSE normalized with respect to variance of t.\n",
        "c)Stopping criteria: Either max_iter has been reached, or the normalized RMSE does not change by more than min change NRMSE"
      ],
      "metadata": {
        "id": "zrGrsW-TweEe"
      }
    },
    {
      "cell_type": "code",
      "source": [
        "#defining a fucntion to compute NRMSE\n",
        "def compute_NRMSE(mse_d, t):\n",
        "    #Compute normalized root mean squared error (NRMSE)\n",
        "    return np.sqrt(mse_d)/np.std(t)"
      ],
      "metadata": {
        "id": "TBxn_uNeQhfb"
      },
      "execution_count": 411,
      "outputs": []
    },
    {
      "cell_type": "code",
      "source": [
        "#defining a function to estimate the weights of linear regression using gradient descent\n",
        "#taking min_change_NRMSE = 1e-5(small)\n",
        "def linear_regression_gd(X, t, lam1=0, lam2=0, eta=0.01, max_iter=2000, min_change_NRMSE=1e-5):\n",
        "  #taking dimensions of X to generate suitable weight matrix with all values equal to 1 initially\n",
        "  n, f = X.shape\n",
        "  #w vector of dim f+1 \n",
        "  w = np.ones(f+1)\n",
        "  #take initial NRMSE = 100 so that it won't be close to the point where it's gradient become 0\n",
        "  NRMSE_old = 100\n",
        "  for i in range(max_iter):\n",
        "    updated_LR = linear_regression_update(X,t,w,eta,lam1,lam2)\n",
        "    NRMSE_current = compute_NRMSE(updated_LR[1],t)\n",
        "    #check for stopping criteria\n",
        "    if np.abs(NRMSE_current - NRMSE_old) < min_change_NRMSE:\n",
        "      break\n",
        "    else:\n",
        "      NRMSE_old = NRMSE_current\n",
        "    w_new = updated_LR[0]\n",
        "  return w_new, NRMSE_old"
      ],
      "metadata": {
        "id": "LESA0L06PQGa"
      },
      "execution_count": 412,
      "outputs": []
    },
    {
      "cell_type": "code",
      "source": [
        "#example using above X and t\n",
        "w_nrmse = linear_regression_gd(X,t)\n",
        "print('Final w:')\n",
        "print(w_nrmse[0])\n",
        "print('final RMSE normalized with respect to variance of t:')\n",
        "print(w_nrmse[1])"
      ],
      "metadata": {
        "colab": {
          "base_uri": "https://localhost:8080/"
        },
        "id": "xv6kDwSZ-0hh",
        "outputId": "b31998b3-e78f-4df2-a48a-5561812932a7"
      },
      "execution_count": 413,
      "outputs": [
        {
          "output_type": "stream",
          "name": "stdout",
          "text": [
            "Final w:\n",
            "[0.98638151 0.97527993 0.96518858 0.97058235 0.96963487 0.99508565]\n",
            "final RMSE normalized with respect to variance of t:\n",
            "0.8219064926894801\n"
          ]
        }
      ]
    },
    {
      "cell_type": "markdown",
      "source": [
        "# Q13.Run multiple experiments (with different random seeds) for, plot the results of (box plots), and comment on the trends and potential reasons for the following relations:\n"
      ],
      "metadata": {
        "id": "JrRY9xo1OEks"
      }
    },
    {
      "cell_type": "markdown",
      "source": [
        "# (a)Training and validation NRMSE obtained using pseudo inverse with number of training samples "
      ],
      "metadata": {
        "id": "BDBIYAj72RXv"
      }
    },
    {
      "cell_type": "code",
      "source": [
        "#Set the random seed to ensure the reproducibility of results\n",
        "seed = 20\n",
        "#Define different number of training samples\n",
        "#np.arange(start,stop,step) : Return evenly spaced values within a given interval.\n",
        "#source : https://numpy.org/doc/stable/reference/generated/numpy.linspace.html\n",
        "#sample train will be like 5, 20, 35,....\n",
        "n_samples_train = np.arange(5, 251, 10)\n",
        "#Define the noise variance of the noise added to the target variable\n",
        "n_var = 0.05\n",
        "#Define Number of samples for data_matrix\n",
        "N = 310 #which is greater than the maximum number of samples in sample train\n",
        "#Define feature dimension\n",
        "F = 10\n",
        "#Define lambda\n",
        "lam_2= 0.01\n",
        "#Initialize arrays to store the training and validation NRMSE for each number of training samples\n",
        "train_NRMSE = []\n",
        "valid_NRMSE = []\n",
        "#Loop over different number of training samples\n",
        "for n in n_samples_train:\n",
        "  #Initialize arrays to store the training and validation NRMSE for each seed\n",
        "  train_NRMSE_seed = []\n",
        "  valid_NRMSE_seed = []\n",
        "  #for n = 5 and seed = 0, there will be some array for training and validation data\n",
        "  #then for n = 5 and seed =1, there will be some array, and going on,\n",
        "  #these arrays will be stored in seed array and then these are appended in last array which is for different n\n",
        "  for i in range(seed):\n",
        "    np.random.seed(i)\n",
        "    #Generate data using previously defined functions\n",
        "    x_d = data_matrix(N,F)\n",
        "    #Define the weight vector to generate t vector\n",
        "    W_v = np.random.rand(F+1)\n",
        "    #Generate t vector using previously defined fucntion\n",
        "    t = generate_t(x_d, W_v[1:], W_v[0], n_var)\n",
        "    #Fit the linear regression model on data using previously defined functions\n",
        "    W_n = estimate_weights_L2_reg(x_d,t,lam_2)[0]#weight vetor using pseudo inverse and lambda small\n",
        "    y = linear_reg_estimate(x_d, W_n[1:]) + W_n[0]\n",
        "    #splitting data into training and validation\n",
        "    #training data\n",
        "    t_train = t[:n]\n",
        "    y_train = y[:n]\n",
        "    #Compute MSE on training data\n",
        "    train_mse = mse(y_train,t_train)\n",
        "    #Compute the NRMSE on training data\n",
        "    train_NRMSE_seed.append(compute_NRMSE(train_mse, t_train))\n",
        "    #validation data\n",
        "    t_valid = t[n:]\n",
        "    y_valid = y[n:]\n",
        "    #Compute MSE on validation data\n",
        "    valid_mse = mse(y_valid,t_valid)\n",
        "    #Compute the NRMSE on validation data\n",
        "    valid_NRMSE_seed.append(compute_NRMSE(valid_mse, t_valid))\n",
        "  \n",
        "  train_NRMSE.append(train_NRMSE_seed)\n",
        "  valid_NRMSE.append(valid_NRMSE_seed)\n",
        "\n",
        "# Plot the results using box plots\n",
        "plt.boxplot(train_NRMSE)\n",
        "plt.xlabel('No. of samples')\n",
        "plt.ylabel('training NRMSE')\n",
        "plt.title('Training NRMSE with increasing number of training samples')\n",
        "plt.show()\n",
        "\n",
        "plt.boxplot(valid_NRMSE)\n",
        "plt.xlabel('No. of samples')\n",
        "plt.ylabel('Validation NRMSE')\n",
        "plt.title('Validation NRMSE with increasing number of training samples')\n",
        "plt.show()\n"
      ],
      "metadata": {
        "colab": {
          "base_uri": "https://localhost:8080/",
          "height": 573
        },
        "id": "RRcn4bzNXuAV",
        "outputId": "762c68c6-9b21-442a-ecbf-212e80183930"
      },
      "execution_count": 414,
      "outputs": [
        {
          "output_type": "display_data",
          "data": {
            "text/plain": [
              "<Figure size 432x288 with 1 Axes>"
            ],
            "image/png": "[encoded data removed]"
          },
          "metadata": {
            "needs_background": "light"
          }
        },
        {
          "output_type": "display_data",
          "data": {
            "text/plain": [
              "<Figure size 432x288 with 1 Axes>"
            ],
            "image/png": "[encoded data removed]"
          },
          "metadata": {
            "needs_background": "light"
          }
        }
      ]
    },
    {
      "cell_type": "markdown",
      "source": [
        "**Observations:** For less number of samples, it is easy to fit for linear regression, so less error and when number of of samples increases, it is harder to fit in linear regression, hence error increases.\n",
        "\n",
        "In case of validation data, as the number of samples increases, error drecreases upto a point and then start increasing."
      ],
      "metadata": {
        "id": "KyosNyzAmqXC"
      }
    },
    {
      "cell_type": "markdown",
      "source": [
        "# (b) Training and validation NRMSE obtained using pseudo inverse with number of variables"
      ],
      "metadata": {
        "id": "Vkha9E1o381M"
      }
    },
    {
      "cell_type": "code",
      "source": [
        "#Define different number of variables\n",
        "#np.arange(start,stop,step) : Return evenly spaced values within a given interval.\n",
        "#source : https://numpy.org/doc/stable/reference/generated/numpy.linspace.html\n",
        "n_variable_train = np.arange(5, 201, 15)\n",
        "#Define the noise variance of the noise added to the target variable\n",
        "n_var = 0.05\n",
        "#Define Number of samples for data_matrix\n",
        "N = 300\n",
        "#Define feature dimension\n",
        "F = 10\n",
        "#Define lambda\n",
        "lam_2= 0.01\n",
        "#Initialize arrays to store the training and validation NRMSE for each number of training variables\n",
        "train_NRMSE_b = []\n",
        "valid_NRMSE_b = []\n",
        "#Loop over different number of training samples\n",
        "for f in n_variable_train:\n",
        "  #Initialize arrays to store the training and validation NRMSE for each seed\n",
        "  train_NRMSE_seed = []\n",
        "  valid_NRMSE_seed = []\n",
        "  for i in range(seed):\n",
        "    np.random.seed(i)\n",
        "    #Generate data using previously defined functions\n",
        "    x_d = data_matrix(N,f)\n",
        "    #Define the weight vector to generate t vector\n",
        "    W_v = np.random.rand(f+1)\n",
        "    #Generate t using previously defined function\n",
        "    t = generate_t(x_d, W_v[1:], W_v[0], n_var)\n",
        "    #Fit the linear regression model on data using previously defined functions\n",
        "    W_n = estimate_weights_L2_reg(x_d,t,lam_2)[0]#weight vetor using pseudo inverse and lambda small\n",
        "    y = linear_reg_estimate(x_d, W_n[1:]) + W_n[0]\n",
        "    #splitting data into training and validation\n",
        "    #Splitting data in approx 80-20%\n",
        "    #training data\n",
        "    t_train = t[:250]\n",
        "    y_train = y[:250]\n",
        "    #Compute MSE on training data\n",
        "    train_mse = mse(y_train,t_train)\n",
        "    #Compute the NRMSE on training data\n",
        "    train_NRMSE_seed.append(compute_NRMSE(train_mse, t_train))\n",
        "    #validation data\n",
        "    t_valid = t[250:]\n",
        "    y_valid = y[250:]\n",
        "    #Compute MSE on validation data\n",
        "    valid_mse = mse(y_valid,t_valid)\n",
        "    #Compute the NRMSE on validation data\n",
        "    valid_NRMSE_seed.append(compute_NRMSE(valid_mse, t_valid))\n",
        "  \n",
        "  train_NRMSE_b.append(train_NRMSE_seed)\n",
        "  valid_NRMSE_b.append(valid_NRMSE_seed)\n",
        "\n",
        "# Plot the results using box plots\n",
        "plt.boxplot(train_NRMSE_b)\n",
        "plt.xlabel('No. of variables')\n",
        "plt.ylabel('training NRMSE')\n",
        "plt.title('Training NRMSE with increasing number of variables')\n",
        "plt.show()\n",
        "\n",
        "plt.boxplot(valid_NRMSE_b)\n",
        "plt.xlabel('No. of variables')\n",
        "plt.ylabel('valid NRMSE')\n",
        "plt.title('validation NRMSE with increasing number of variables')\n",
        "plt.show()"
      ],
      "metadata": {
        "colab": {
          "base_uri": "https://localhost:8080/",
          "height": 573
        },
        "id": "niXON40i4Fa-",
        "outputId": "1438408c-e033-4df8-9747-70ca2fcfa06f"
      },
      "execution_count": 415,
      "outputs": [
        {
          "output_type": "display_data",
          "data": {
            "text/plain": [
              "<Figure size 432x288 with 1 Axes>"
            ],
            "image/png": "[encoded data removed]"
          },
          "metadata": {
            "needs_background": "light"
          }
        },
        {
          "output_type": "display_data",
          "data": {
            "text/plain": [
              "<Figure size 432x288 with 1 Axes>"
            ],
            "image/png": "[encoded data removed]"
          },
          "metadata": {
            "needs_background": "light"
          }
        }
      ]
    },
    {
      "cell_type": "markdown",
      "source": [
        "**Observation:**As the feature dimension increases, we have more data and hence error is less"
      ],
      "metadata": {
        "id": "4tYdgWYw7uUm"
      }
    },
    {
      "cell_type": "markdown",
      "source": [
        "# (c)Training and validation NRMSE obtained using pseudo inverse with noise variance "
      ],
      "metadata": {
        "id": "HUqU9TSv7qOu"
      }
    },
    {
      "cell_type": "code",
      "source": [
        "#Define different noise variance\n",
        "#np.arange(start,stop,step) : Return evenly spaced values within a given interval.\n",
        "#source : https://numpy.org/doc/stable/reference/generated/numpy.linspace.html\n",
        "n_variance_train = np.arange(0.001, 1.1, 0.1)\n",
        "#Define the noise variance of the noise added to the target variable\n",
        "n_var = 0.05\n",
        "#Define Number of samples for data_matrix\n",
        "N = 300\n",
        "#Define feature dimension\n",
        "F = 10\n",
        "#Define lambda\n",
        "lam_2 = 0.01\n",
        "#Initialize arrays to store the training and validation NRMSE for each noise variance\n",
        "train_NRMSE_c = []\n",
        "valid_NRMSE_c = []\n",
        "#Loop over different number of training samples\n",
        "for var_n in n_variance_train:\n",
        "  train_NRMSE_seed = []\n",
        "  valid_NRMSE_seed = []\n",
        "  for i in range(seed):\n",
        "    np.random.seed(i)\n",
        "    #Generate data using previously defined functions\n",
        "    x_d = data_matrix(N,F)\n",
        "    #Define the weight vector to generate t vector\n",
        "    W_v = np.random.rand(F+1)\n",
        "    t = generate_t(x_d, W_v[1:], W_v[0],var_n)\n",
        "    #Fit the linear regression model on data using previously defined functions\n",
        "    W_n = estimate_weights_L2_reg(x_d,t,lam_2)[0]#weight vetor using pseudo inverse and lambda small\n",
        "    y = linear_reg_estimate(x_d, W_n[1:]) + W_n[0]\n",
        "    #print(len(y))\n",
        "    #splitting data into training and validation\n",
        "    #training data\n",
        "    t_train = t[:250]\n",
        "    y_train = y[:250]\n",
        "    #print(len(y_train))\n",
        "    #Compute MSE on training data\n",
        "    train_mse = mse(y_train,t_train)\n",
        "    #Compute the NRMSE on training data\n",
        "    train_NRMSE_seed.append(compute_NRMSE(train_mse, t_train))\n",
        "    #validation data\n",
        "    t_valid = t[250:]\n",
        "    y_valid = y[250:]\n",
        "    #print(len(y_valid))\n",
        "    #Compute MSE on validation data\n",
        "    valid_mse = mse(y_valid,t_valid)\n",
        "    #Compute the NRMSE on validation data\n",
        "    valid_NRMSE_seed.append(compute_NRMSE(valid_mse, t_valid))\n",
        "  \n",
        "  train_NRMSE_c.append(train_NRMSE_seed)\n",
        "  valid_NRMSE_c.append(valid_NRMSE_seed)\n",
        "\n",
        "# Plot the results using box plots\n",
        "plt.boxplot(train_NRMSE_c)\n",
        "plt.xlabel('Noise variance')\n",
        "plt.ylabel('training NRMSE')\n",
        "plt.title('Training NRMSE with increasing noise variance')\n",
        "plt.show()\n",
        "\n",
        "plt.boxplot(valid_NRMSE_c)\n",
        "plt.xlabel('Noise variance')\n",
        "plt.ylabel('valid NRMSE')\n",
        "plt.title('validation NRMSE with increasing noise variance')\n",
        "plt.show()"
      ],
      "metadata": {
        "colab": {
          "base_uri": "https://localhost:8080/",
          "height": 573
        },
        "id": "Nja8XmQx7v8c",
        "outputId": "56019916-2821-4118-f6c1-c776d05427d0"
      },
      "execution_count": 416,
      "outputs": [
        {
          "output_type": "display_data",
          "data": {
            "text/plain": [
              "<Figure size 432x288 with 1 Axes>"
            ],
            "image/png": "[encoded data removed]"
          },
          "metadata": {
            "needs_background": "light"
          }
        },
        {
          "output_type": "display_data",
          "data": {
            "text/plain": [
              "<Figure size 432x288 with 1 Axes>"
            ],
            "image/png": "[encoded data removed]"
          },
          "metadata": {
            "needs_background": "light"
          }
        }
      ]
    },
    {
      "cell_type": "markdown",
      "source": [
        "**Observation:** As noise variance increases, error also increases, because error is gaussian distribution, it increases as noise variance increases."
      ],
      "metadata": {
        "id": "r6BQ9WIb837Q"
      }
    },
    {
      "cell_type": "markdown",
      "source": [
        "# (d)Training and validation NRMSE obtained using pseudo inverse with w0"
      ],
      "metadata": {
        "id": "PfplOsohF-zv"
      }
    },
    {
      "cell_type": "code",
      "source": [
        "#Define different W0(bias)\n",
        "#np.arange(start,stop,step) : Return evenly spaced values within a given interval.\n",
        "#source : https://numpy.org/doc/stable/reference/generated/numpy.linspace.html\n",
        "W0_train = np.arange(0.001, 1.1, 0.1)\n",
        "#Define the noise variance of the noise added to the target variable\n",
        "n_var = 0.05\n",
        "#Define Number of samples for data_matrix\n",
        "N = 300\n",
        "#Define feature dimension\n",
        "F = 10\n",
        "#Define lambda\n",
        "lam_2 = 0.01\n",
        "#Initialize arrays to store the training and validation NRMSE for each bias term\n",
        "train_NRMSE_d = []\n",
        "valid_NRMSE_d = []\n",
        "#Loop over different number of training samples\n",
        "for w_o in W0_train:\n",
        "  train_NRMSE_seed = []\n",
        "  valid_NRMSE_seed = []\n",
        "  for i in range(seed):\n",
        "    np.random.seed(i)\n",
        "    #Generate data using previously defined functions\n",
        "    x_d = data_matrix(N,F)\n",
        "    #Define the weight vector to generate t vector\n",
        "    W_v = np.random.rand(F+1)\n",
        "    W_v[0] = w_o\n",
        "    t = generate_t(x_d, W_v[1:], W_v[0],n_var)\n",
        "    #Fit the linear regression model on data using previously defined functions\n",
        "    W_n = estimate_weights_L2_reg(x_d,t,lam_2)[0]#weight vetor using pseudo inverse and lambda small\n",
        "    y = linear_reg_estimate(x_d, W_n[1:]) + W_n[0]\n",
        "    #print(len(y))\n",
        "    #splitting data into training and validation\n",
        "    #training data\n",
        "    t_train = t[:250]\n",
        "    y_train = y[:250]\n",
        "    #print(len(y_train))\n",
        "    #Compute MSE on training data\n",
        "    train_mse = mse(y_train,t_train)\n",
        "    #Compute the NRMSE on training data\n",
        "    train_NRMSE_seed.append(compute_NRMSE(train_mse, t_train))\n",
        "    #validation data\n",
        "    t_valid = t[250:]\n",
        "    y_valid = y[250:]\n",
        "    #print(len(y_valid))\n",
        "    #Compute MSE on validation data\n",
        "    valid_mse = mse(y_valid,t_valid)\n",
        "    #Compute the NRMSE on validation data\n",
        "    valid_NRMSE_seed.append(compute_NRMSE(valid_mse, t_valid))\n",
        "  \n",
        "  train_NRMSE_d.append(train_NRMSE_seed)\n",
        "  valid_NRMSE_d.append(valid_NRMSE_seed)\n",
        "\n",
        "# Plot the results using box plots\n",
        "plt.boxplot(train_NRMSE_d)\n",
        "plt.xlabel('W0')\n",
        "plt.ylabel('training NRMSE')\n",
        "plt.title('Training NRMSE with increasing W0')\n",
        "plt.show()\n",
        "\n",
        "plt.boxplot(valid_NRMSE_d)\n",
        "plt.xlabel('W0')\n",
        "plt.ylabel('valid NRMSE')\n",
        "plt.title('validation NRMSE with increasing W0')\n",
        "plt.show()"
      ],
      "metadata": {
        "colab": {
          "base_uri": "https://localhost:8080/",
          "height": 573
        },
        "id": "z3Z9MW3rGF7R",
        "outputId": "0cd84447-d917-486a-c3c1-1ac8f575d55b"
      },
      "execution_count": 417,
      "outputs": [
        {
          "output_type": "display_data",
          "data": {
            "text/plain": [
              "<Figure size 432x288 with 1 Axes>"
            ],
            "image/png": "[encoded data removed]"
          },
          "metadata": {
            "needs_background": "light"
          }
        },
        {
          "output_type": "display_data",
          "data": {
            "text/plain": [
              "<Figure size 432x288 with 1 Axes>"
            ],
            "image/png": "[encoded data removed]"
          },
          "metadata": {
            "needs_background": "light"
          }
        }
      ]
    },
    {
      "cell_type": "markdown",
      "source": [
        "**Observation:** There won't be any effect on error as w0 is used to compute y and t both and while calculating error it will cancel out and thus no effect on error."
      ],
      "metadata": {
        "id": "3ntViPXl9eIS"
      }
    },
    {
      "cell_type": "markdown",
      "source": [
        "# (e) Training and validation NRMSE obtained using pseudo inverse with lambda2"
      ],
      "metadata": {
        "id": "2vfdg-bcIehH"
      }
    },
    {
      "cell_type": "code",
      "source": [
        "#Define different lambda2\n",
        "#np.arange(start,stop,step) : Return evenly spaced values within a given interval.\n",
        "#source : https://numpy.org/doc/stable/reference/generated/numpy.linspace.html\n",
        "lambda2_train = [0.001, 0.005, 0.01, 0.05, 0.1, 0.5, 1, 2, 4, 5,10,20,40,50,100]\n",
        "#Define the noise variance of the noise added to the target variable\n",
        "n_var = 0.05\n",
        "#Define Number of samples for data_matrix\n",
        "N = 300\n",
        "#Define feature dimension\n",
        "F = 10\n",
        "#Define lambda\n",
        "lam_2= 0.01\n",
        "#Initialize arrays to store the training and validation NRMSE for each lambda2\n",
        "train_NRMSE_e = []\n",
        "valid_NRMSE_e = []\n",
        "#Loop over different number of training samples\n",
        "for lam_d in lambda2_train:\n",
        "  train_NRMSE_seed = []\n",
        "  valid_NRMSE_seed = []\n",
        "  for i in range(seed):\n",
        "    np.random.seed(i)\n",
        "    #Generate data using previously defined functions\n",
        "    x_d = data_matrix(N,F)\n",
        "    #Define the weight vector to generate t vector\n",
        "    W_v = np.random.rand(F+1)\n",
        "    t = generate_t(x_d, W_v[1:], W_v[0],n_var)\n",
        "    #Fit the linear regression model on data using previously defined functions\n",
        "    W_n = estimate_weights_L2_reg(x_d,t,lam_d)[0]#weight vetor using pseudo inverse and lambda small\n",
        "    y = linear_reg_estimate(x_d, W_n[1:]) + W_n[0]\n",
        "    #print(len(y))\n",
        "    #splitting data into training and validation\n",
        "    #training data\n",
        "    t_train = t[:250]\n",
        "    y_train = y[:250]\n",
        "    #print(len(y_train))\n",
        "    #Compute MSE on training data\n",
        "    train_mse = mse(y_train,t_train)\n",
        "    #Compute the NRMSE on training data\n",
        "    train_NRMSE_seed.append(compute_NRMSE(train_mse, t_train))\n",
        "    #validation data\n",
        "    t_valid = t[250:]\n",
        "    y_valid = y[250:]\n",
        "    #print(len(y_valid))\n",
        "    #Compute MSE on validation data\n",
        "    valid_mse = mse(y_valid,t_valid)\n",
        "    #Compute the NRMSE on validation data\n",
        "    valid_NRMSE_seed.append(compute_NRMSE(valid_mse, t_valid))\n",
        "  \n",
        "  train_NRMSE_e.append(train_NRMSE_seed)\n",
        "  valid_NRMSE_e.append(valid_NRMSE_seed)\n",
        "\n",
        "# Plot the results using box plots\n",
        "plt.boxplot(train_NRMSE_e)\n",
        "plt.xlabel('lambda2')\n",
        "plt.ylabel('training NRMSE')\n",
        "plt.title('Training NRMSE with increasing lambda2')\n",
        "plt.show()\n",
        "\n",
        "plt.boxplot(valid_NRMSE_e)\n",
        "plt.xlabel('lambda2')\n",
        "plt.ylabel('valid NRMSE')\n",
        "plt.title('validation NRMSE with increasing lambda2')\n",
        "plt.show()"
      ],
      "metadata": {
        "colab": {
          "base_uri": "https://localhost:8080/",
          "height": 573
        },
        "id": "_7lZclBqJLEi",
        "outputId": "48fb3d60-2dce-4461-f986-1c888f78773f"
      },
      "execution_count": 418,
      "outputs": [
        {
          "output_type": "display_data",
          "data": {
            "text/plain": [
              "<Figure size 432x288 with 1 Axes>"
            ],
            "image/png": "[encoded data removed]"
          },
          "metadata": {
            "needs_background": "light"
          }
        },
        {
          "output_type": "display_data",
          "data": {
            "text/plain": [
              "<Figure size 432x288 with 1 Axes>"
            ],
            "image/png": "[encoded data removed]"
          },
          "metadata": {
            "needs_background": "light"
          }
        }
      ]
    },
    {
      "cell_type": "markdown",
      "source": [
        "**Observation:** As lambda2 increases, error also increases, this is because all the weights approaches to 0, and away from MSE"
      ],
      "metadata": {
        "id": "rty3o-Kb-YDc"
      }
    },
    {
      "cell_type": "markdown",
      "source": [
        "# (f)Time taken to solve pseudo inverse with number of samples and number of variables and its breaking points "
      ],
      "metadata": {
        "id": "rOE7pWCwKL3u"
      }
    },
    {
      "cell_type": "code",
      "source": [
        "#Define different number of training samples\n",
        "#np.arange(start,stop,step) : Return evenly spaced values within a given interval.\n",
        "#source : https://numpy.org/doc/stable/reference/generated/numpy.linspace.html\n",
        "no_sample_train = []\n",
        "for j in range(1,8):\n",
        "  no_sample_train.append(10**j)\n",
        "\n",
        "#Define the noise variance of the noise added to the target variable\n",
        "n_var = 0.05\n",
        "#Define Number of samples for data_matrix\n",
        "N = 300\n",
        "#Define feature dimension\n",
        "F = 10\n",
        "#Define lambda\n",
        "lam_2= 0.01\n",
        "#Loop over different number of training samples\n",
        "time_diff = []\n",
        "for n_s in no_sample_train:\n",
        "  #Generate data using previously defined functions\n",
        "  x_d = data_matrix(n_s,F)\n",
        "  #Define the weight vector to generate t vector\n",
        "  W_v = np.random.rand(F+1)\n",
        "  t = generate_t(x_d, W_v[1:], W_v[0], n_var)\n",
        "  #Fit the linear regression model on data using previously defined functions\n",
        "  #tic-toc function is used to calculate time to solve pseudo inverse\n",
        "  tic1 = time.perf_counter()\n",
        "  W_n = estimate_weights_L2_reg(x_d,t,lam_2)[0]#weight vetor using pseudo inverse and lambda small\n",
        "  toc1 = time.perf_counter()\n",
        "  time_diff.append(toc1-tic1)\n",
        "\n",
        "# Plot the results using box plots\n",
        "plt.plot(no_sample_train,time_diff)\n",
        "plt.xlabel('No. of samples')\n",
        "plt.ylabel('time')\n",
        "plt.title('Time taken with increasing number of training samples')\n",
        "plt.show()"
      ],
      "metadata": {
        "colab": {
          "base_uri": "https://localhost:8080/",
          "height": 295
        },
        "id": "W631g7EuNDFP",
        "outputId": "74546a7f-7a4d-4114-b272-a9ee2b74c14c"
      },
      "execution_count": 419,
      "outputs": [
        {
          "output_type": "display_data",
          "data": {
            "text/plain": [
              "<Figure size 432x288 with 1 Axes>"
            ],
            "image/png": "[encoded data removed]"
          },
          "metadata": {
            "needs_background": "light"
          }
        }
      ]
    },
    {
      "cell_type": "code",
      "source": [
        "#Define different number of training samples\n",
        "#np.arange(start,stop,step) : Return evenly spaced values within a given interval.\n",
        "#source : https://numpy.org/doc/stable/reference/generated/numpy.linspace.html\n",
        "f_dim_train = []\n",
        "for j in range(1,5):\n",
        "  f_dim_train.append(10**j)\n",
        "\n",
        "#Define the noise variance of the noise added to the target variable\n",
        "n_var = 0.05\n",
        "#Define Number of samples for data_matrix\n",
        "N = 300\n",
        "#Define feature dimension\n",
        "F = 10\n",
        "#Define lambda\n",
        "lam_2= 0.01\n",
        "time_diff1 = []\n",
        "#Loop over different number of training samples\n",
        "for f_d in f_dim_train:\n",
        "  #Generate data using previously defined functions\n",
        "  x_d = data_matrix(N,f_d)\n",
        "  #Define the weight vector to generate t vector\n",
        "  W_v = np.random.rand(f_d+1)\n",
        "  t = generate_t(x_d, W_v[1:], W_v[0], n_var)\n",
        "  #Fit the linear regression model on data using previously defined functions\n",
        "  tic2 = time.perf_counter()\n",
        "  W_n = estimate_weights_L2_reg(x_d,t,lam_2)[0]#weight vetor using pseudo inverse and lambda small\n",
        "  toc2 = time.perf_counter()\n",
        "  time_diff1.append(toc2-tic2)\n",
        "\n",
        "# Plot the results using box plots\n",
        "plt.plot(f_dim_train,time_diff1)\n",
        "plt.xlabel('Feature Dimension')\n",
        "plt.ylabel('time')\n",
        "plt.title('Time taken with increasing number of Feature Dimensions')\n",
        "plt.show()"
      ],
      "metadata": {
        "colab": {
          "base_uri": "https://localhost:8080/",
          "height": 295
        },
        "id": "qpxpb1rmTN1c",
        "outputId": "8bc2e8f8-8470-459e-d875-42211e6a3007"
      },
      "execution_count": 420,
      "outputs": [
        {
          "output_type": "display_data",
          "data": {
            "text/plain": [
              "<Figure size 432x288 with 1 Axes>"
            ],
            "image/png": "[encoded data removed]"
          },
          "metadata": {
            "needs_background": "light"
          }
        }
      ]
    },
    {
      "cell_type": "markdown",
      "source": [
        "**Observation:** Time taken to solve pseudo inverse is linear with respect to no. of samples and variables\n",
        "\n",
        "Breaking point(no. of samples) = 10^8\n",
        "\n",
        "Breaking point(no. of variables) = 10^5"
      ],
      "metadata": {
        "id": "czzZtd5j_gcC"
      }
    },
    {
      "cell_type": "markdown",
      "source": [
        "# (g)Training and validation NRMSE obtained using gradient descent with max_iter"
      ],
      "metadata": {
        "id": "gU0ImjR5UKEY"
      }
    },
    {
      "cell_type": "code",
      "source": [
        "#Set the random seed to ensure the reproducibility of results\n",
        "seed = 20\n",
        "#Define different number of max. iteration\n",
        "#np.arange(start,stop,step) : Return evenly spaced values within a given interval.\n",
        "#source : https://numpy.org/doc/stable/reference/generated/numpy.linspace.html\n",
        "max_iter_train =[10,50,100,200,400,800,1600,3200,6400,10000]\n",
        "#Define the noise variance of the noise added to the target variable\n",
        "n_var = 0.05\n",
        "#Define Number of samples for data_matrix\n",
        "N = 300\n",
        "#Define feature dimension\n",
        "F = 10\n",
        "#Define lambdas\n",
        "lam_1 = 0.01\n",
        "lam_2 = 0.01\n",
        "#Initialize arrays to store the training and validation NRMSE for each number of max. iterations\n",
        "train_NRMSE_g = []\n",
        "valid_NRMSE_g = []\n",
        "#Loop over different number of training samples\n",
        "for max_i in max_iter_train:\n",
        "  train_NRMSE_seed = []\n",
        "  valid_NRMSE_seed = []\n",
        "  for i in range(seed):\n",
        "    np.random.seed(i)\n",
        "    #Generate data using previously defined functions\n",
        "    x_d = data_matrix(N,F)\n",
        "    #Define the weight vector to generate t vector\n",
        "    W_v = np.random.randn(F+1)\n",
        "    t = generate_t(x_d, W_v[1:], W_v[0], n_var)\n",
        "    #Fit the linear regression model on data using previously defined functions\n",
        "    W_n = linear_regression_gd(x_d, t, lam_1, lam_2, 1, max_i)[0]\n",
        "    y = linear_reg_estimate(x_d, W_n[1:]) + W_n[0]\n",
        "    #print(len(y))\n",
        "    #splitting data into training and validation\n",
        "    #training data\n",
        "    t_train = t[:250]\n",
        "    y_train = y[:250]\n",
        "    #print(len(y_train))\n",
        "    #Compute MSE on training data\n",
        "    train_mse = mse(y_train,t_train)\n",
        "    #Compute the NRMSE on training data\n",
        "    train_NRMSE_seed.append(compute_NRMSE(train_mse, t_train))\n",
        "    #validation data\n",
        "    t_valid = t[250:]\n",
        "    y_valid = y[250:]\n",
        "    #print(len(y_valid))\n",
        "    #Compute MSE on validation data\n",
        "    valid_mse = mse(y_valid,t_valid)\n",
        "    #Compute the NRMSE on validation data\n",
        "    valid_NRMSE_seed.append(compute_NRMSE(valid_mse, t_valid))\n",
        "  \n",
        "  train_NRMSE_g.append(train_NRMSE_seed)\n",
        "  valid_NRMSE_g.append(valid_NRMSE_seed)\n",
        "\n",
        "\n",
        "\n",
        "\n",
        "\n",
        "\n",
        "# Plot the results using box plots\n",
        "plt.boxplot(train_NRMSE_g)\n",
        "plt.xlabel('No. of maximum iterations')\n",
        "plt.ylabel('training NRMSE')\n",
        "plt.title('Training NRMSE with increasing number of maximum iterations')\n",
        "plt.show()\n",
        "\n",
        "plt.boxplot(valid_NRMSE_g)\n",
        "plt.xlabel('No. of maximum iterations')\n",
        "plt.ylabel('Validation NRMSE')\n",
        "plt.title('Validation NRMSE with increasing number of maximum iterations')\n",
        "plt.show()\n"
      ],
      "metadata": {
        "colab": {
          "base_uri": "https://localhost:8080/",
          "height": 573
        },
        "id": "ekiGUqv8UXBl",
        "outputId": "3431ce8d-fb30-4079-fb81-304d7bf5cae9"
      },
      "execution_count": 421,
      "outputs": [
        {
          "output_type": "display_data",
          "data": {
            "text/plain": [
              "<Figure size 432x288 with 1 Axes>"
            ],
            "image/png": "[encoded data removed]"
          },
          "metadata": {
            "needs_background": "light"
          }
        },
        {
          "output_type": "display_data",
          "data": {
            "text/plain": [
              "<Figure size 432x288 with 1 Axes>"
            ],
            "image/png": "[encoded data removed]"
          },
          "metadata": {
            "needs_background": "light"
          }
        }
      ]
    },
    {
      "cell_type": "markdown",
      "source": [
        "**Observation:** Error is constant with increasing maximum number of iterations"
      ],
      "metadata": {
        "id": "cWbhWnXz__SY"
      }
    },
    {
      "cell_type": "markdown",
      "source": [
        "# (h)Training and validation NRMSE obtained using gradient descent with eta"
      ],
      "metadata": {
        "id": "qFHftbAkXonl"
      }
    },
    {
      "cell_type": "code",
      "source": [
        "#Set the random seed to ensure the reproducibility of results\n",
        "seed = 20\n",
        "#Define different value of eta\n",
        "#np.arange(start,stop,step) : Return evenly spaced values within a given interval.\n",
        "#source : https://numpy.org/doc/stable/reference/generated/numpy.linspace.html\n",
        "eta_train = np.arange(0.01, 2, 0.1)\n",
        "#Define the noise variance of the noise added to the target variable\n",
        "n_var = 0.05\n",
        "#Define Number of samples for data_matrix\n",
        "N = 300\n",
        "#Define feature dimension\n",
        "F = 10\n",
        "#Define lambdas\n",
        "lam_1 = 0.01\n",
        "lam_2 = 0.01\n",
        "#Initialize arrays to store the training and validation NRMSE for each eta\n",
        "train_NRMSE_h = []\n",
        "valid_NRMSE_h = []\n",
        "#Loop over different number of training samples\n",
        "for eta_t in eta_train:\n",
        "  train_NRMSE_seed = []\n",
        "  valid_NRMSE_seed = []\n",
        "  for i in range(seed):\n",
        "    np.random.seed(i)\n",
        "    #Generate data using previously defined functions\n",
        "    x_d = data_matrix(N,F)\n",
        "    #Define the weight vector to generate t vector\n",
        "    W_v = np.random.rand(F+1)\n",
        "    t = generate_t(x_d, W_v[1:], W_v[0], n_var)\n",
        "    #Fit the linear regression model on data using previously defined functions\n",
        "    W_n = linear_regression_gd(x_d, t, lam_1, lam_2, eta_t)[0]\n",
        "    y = linear_reg_estimate(x_d, W_n[1:]) + W_n[0]\n",
        "    #print(len(y))\n",
        "    #splitting data into training and validation\n",
        "    #training data\n",
        "    t_train = t[:250]\n",
        "    y_train = y[:250]\n",
        "    #print(len(y_train))\n",
        "    #Compute MSE on training data\n",
        "    train_mse = mse(y_train,t_train)\n",
        "    #Compute the NRMSE on training data\n",
        "    train_NRMSE_seed.append(compute_NRMSE(train_mse, t_train))\n",
        "    #validation data\n",
        "    t_valid = t[250:]\n",
        "    y_valid = y[250:]\n",
        "    #print(len(y_valid))\n",
        "    #Compute MSE on validation data\n",
        "    valid_mse = mse(y_valid,t_valid)\n",
        "    #Compute the NRMSE on validation data\n",
        "    valid_NRMSE_seed.append(compute_NRMSE(valid_mse, t_valid))\n",
        "  \n",
        "  train_NRMSE_h.append(train_NRMSE_seed)\n",
        "  valid_NRMSE_h.append(valid_NRMSE_seed)\n",
        "\n",
        "\n",
        "\n",
        "\n",
        "\n",
        "\n",
        "# Plot the results using box plots\n",
        "plt.boxplot(train_NRMSE_h)\n",
        "plt.xlabel('Value of eta')\n",
        "plt.ylabel('training NRMSE')\n",
        "plt.title('Training NRMSE with increasing eta')\n",
        "plt.show()\n",
        "\n",
        "plt.boxplot(valid_NRMSE_h)\n",
        "plt.xlabel('Value of eta')\n",
        "plt.ylabel('Validation NRMSE')\n",
        "plt.title('Validation NRMSE with increasing eta')\n",
        "plt.show()\n"
      ],
      "metadata": {
        "colab": {
          "base_uri": "https://localhost:8080/",
          "height": 573
        },
        "id": "UrcrZHuwXt4v",
        "outputId": "f8131946-0e1e-4545-e600-8ad6c32c52fb"
      },
      "execution_count": 422,
      "outputs": [
        {
          "output_type": "display_data",
          "data": {
            "text/plain": [
              "<Figure size 432x288 with 1 Axes>"
            ],
            "image/png": "[encoded data removed]"
          },
          "metadata": {
            "needs_background": "light"
          }
        },
        {
          "output_type": "display_data",
          "data": {
            "text/plain": [
              "<Figure size 432x288 with 1 Axes>"
            ],
            "image/png": "[encoded data removed]"
          },
          "metadata": {
            "needs_background": "light"
          }
        }
      ]
    },
    {
      "cell_type": "markdown",
      "source": [
        "**Observation:** As we increase eta,up to some point error will decrease but then it starts increasing as the path to reache the minimum will be zigzag type if step size is too large. Where the error is minimum, that is the optimum eta. "
      ],
      "metadata": {
        "id": "1YUnj7HpAXk3"
      }
    },
    {
      "cell_type": "markdown",
      "source": [
        "# (i)Time taken to solve gradient descent with number of samples and number of variables and its breaking points"
      ],
      "metadata": {
        "id": "9uTztNgmYqBI"
      }
    },
    {
      "cell_type": "code",
      "source": [
        "#Define different number of training samples\n",
        "#np.arange(start,stop,step) : Return evenly spaced values within a given interval.\n",
        "#source : https://numpy.org/doc/stable/reference/generated/numpy.linspace.html\n",
        "#take no. of sample train in powers of 10\n",
        "no_sample_train = []\n",
        "for j in range(1,7):\n",
        "  no_sample_train.append(10**j)\n",
        "\n",
        "#Define the noise variance of the noise added to the target variable\n",
        "n_var = 0.05\n",
        "#Define Number of samples for data_matrix\n",
        "N = 300\n",
        "#Define feature dimension\n",
        "F = 10\n",
        "#Define lambdas\n",
        "lam_1 = 0.01\n",
        "lam_2 = 0.01\n",
        "#Loop over different number of training samples\n",
        "time_diff_i = []\n",
        "for n_s in no_sample_train:\n",
        "  #Generate data using previously defined functions\n",
        "  x_d = data_matrix(n_s,F)\n",
        "  #Define the weight vector to generate t vector\n",
        "  W_v = np.random.rand(F+1)\n",
        "  t = generate_t(x_d, W_v[1:], W_v[0], n_var)\n",
        "  #Fit the linear regression model on data using previously defined functions\n",
        "  #tic-toc function is used to calculate time to solve gradient descent\n",
        "  tic_i1 = time.perf_counter()\n",
        "  #calculating gradient descent for linear regression\n",
        "  W_n = linear_regression_gd(x_d, t, lam_1, lam_2)[0]\n",
        "  toc_i1 = time.perf_counter()\n",
        "  time_diff_i.append(toc_i1-tic_i1)\n",
        "\n",
        "# Plot the results using box plots\n",
        "plt.plot(no_sample_train,time_diff_i)\n",
        "plt.xlabel('No. of samples')\n",
        "plt.ylabel('time')\n",
        "plt.title('Time taken with increasing number of training samples')\n",
        "plt.show()"
      ],
      "metadata": {
        "colab": {
          "base_uri": "https://localhost:8080/",
          "height": 295
        },
        "id": "ER0r0zEWY6Gk",
        "outputId": "0876c527-b4f9-4b4f-fda6-cdb4b4ccd635"
      },
      "execution_count": 423,
      "outputs": [
        {
          "output_type": "display_data",
          "data": {
            "text/plain": [
              "<Figure size 432x288 with 1 Axes>"
            ],
            "image/png": "[encoded data removed]"
          },
          "metadata": {
            "needs_background": "light"
          }
        }
      ]
    },
    {
      "cell_type": "code",
      "source": [
        "#Define different number of training samples\n",
        "#np.arange(start,stop,step) : Return evenly spaced values within a given interval.\n",
        "#source : https://numpy.org/doc/stable/reference/generated/numpy.linspace.html\n",
        "f_dim_train = []\n",
        "for j in range(1,4):\n",
        "  f_dim_train.append(10**j)\n",
        "\n",
        "#Define the noise variance of the noise added to the target variable\n",
        "n_var = 0.05\n",
        "#Define Number of samples for data_matrix\n",
        "N = 300\n",
        "#Define feature dimension\n",
        "F = 10\n",
        "#Define lambdas\n",
        "lam_1 = 0.01\n",
        "lam_2 = 0.01\n",
        "time_diff_i1 = []\n",
        "#Loop over different number of training samples\n",
        "for f_d in f_dim_train:\n",
        "  #Generate data using previously defined functions\n",
        "  x_d = data_matrix(N,f_d)\n",
        "  #Define the weight vector to generate t vector\n",
        "  W_v = np.random.rand(f_d+1)\n",
        "  t = generate_t(x_d, W_v[1:], W_v[0], n_var)\n",
        "  #Fit the linear regression model on data using previously defined functions\n",
        "  tic_i2 = time.perf_counter()\n",
        "  W_n = linear_regression_gd(x_d, t, lam_1, lam_2)[0]\n",
        "  toc_i2 = time.perf_counter()\n",
        "  time_diff_i1.append(toc_i2-tic_i2)\n",
        "\n",
        "# Plot the results using box plots\n",
        "plt.plot(f_dim_train,time_diff_i1)\n",
        "plt.xlabel('Feature Dimension')\n",
        "plt.ylabel('time')\n",
        "plt.title('Time taken with increasing number of Feature Dimensions')\n",
        "plt.show()"
      ],
      "metadata": {
        "colab": {
          "base_uri": "https://localhost:8080/",
          "height": 295
        },
        "id": "W5mU1-_YZYRp",
        "outputId": "47368205-67d0-4146-b531-3cc732cc2938"
      },
      "execution_count": 424,
      "outputs": [
        {
          "output_type": "display_data",
          "data": {
            "text/plain": [
              "<Figure size 432x288 with 1 Axes>"
            ],
            "image/png": "[encoded data removed]"
          },
          "metadata": {
            "needs_background": "light"
          }
        }
      ]
    },
    {
      "cell_type": "markdown",
      "source": [
        "**Obsevation:**Time taken to solve pseudo inverse is linear with respect to no. of samples and variables\n",
        "\n",
        "Breaking point(no. of samples) = 10^7\n",
        "\n",
        "Breaking point(no. of variables) = 10^4"
      ],
      "metadata": {
        "id": "d3XIDbaCBtAN"
      }
    },
    {
      "cell_type": "markdown",
      "source": [
        "# (j)Time taken to solve gradient descent with number of variables and its breaking point "
      ],
      "metadata": {
        "id": "1E_Z9k7faNU8"
      }
    },
    {
      "cell_type": "markdown",
      "source": [
        "Already covered in (i)"
      ],
      "metadata": {
        "id": "qL7RvKPPa6V5"
      }
    },
    {
      "cell_type": "markdown",
      "source": [
        "# (k)Training and validation NRMSE and number of nearly zero weights obtained using gradient descent with lambda2 "
      ],
      "metadata": {
        "id": "MOc-NvSBa9UQ"
      }
    },
    {
      "cell_type": "code",
      "source": [
        "#Set the random seed to ensure the reproducibility of results\n",
        "seed = 20\n",
        "#Define different lambda2\n",
        "#np.arange(start,stop,step) : Return evenly spaced values within a given interval.\n",
        "#source : https://numpy.org/doc/stable/reference/generated/numpy.linspace.html\n",
        "lam_2_train = [ 0.1, 0.5, 1, 3, 4, 5,10,20, 35, 50,100,150,200,350,500,750,1000]\n",
        "#Define the noise variance of the noise added to the target variable\n",
        "n_var = 0.05\n",
        "#Define Number of samples for data_matrix\n",
        "N = 300\n",
        "#Define feature dimension\n",
        "F = 10\n",
        "#Define lambdas\n",
        "lam_1 = 0.01\n",
        "lam_2 = 0.01\n",
        "#Define threshold such that if value of weight is less than that threshold then weight will be nearly equal to 0\n",
        "th_k = 0.5\n",
        "#Initialize arrays to store the training and validation NRMSE for each number of training samples\n",
        "train_NRMSE_k = []\n",
        "valid_NRMSE_k = []\n",
        "weight_arr_k = []\n",
        "#Loop over different lambda2\n",
        "for lam_2i in lam_2_train:\n",
        "  train_NRMSE_seed = []\n",
        "  valid_NRMSE_seed = []\n",
        "  weight_arr_seed = []\n",
        "  for i in range(seed):\n",
        "    np.random.seed(i)\n",
        "    #Generate data using previously defined functions\n",
        "    x_d = data_matrix(N,F)\n",
        "    #Define the weight vector to generate t vector\n",
        "    W_v = np.random.rand(F+1)\n",
        "    t = generate_t(x_d, W_v[1:], W_v[0], n_var)\n",
        "    #Fit the linear regression model on data using previously defined functions\n",
        "    W_n = linear_regression_gd(x_d, t, lam_1, lam_2i)[0]\n",
        "    y = linear_reg_estimate(x_d, W_n[1:]) + W_n[0]\n",
        "    #print(len(y))\n",
        "    #splitting data into training and validation\n",
        "    #training data\n",
        "    t_train = t[:250]\n",
        "    y_train = y[:250]\n",
        "    #print(len(y_train))\n",
        "    #Compute MSE on training data\n",
        "    train_mse = mse(y_train,t_train)\n",
        "    #Compute the NRMSE on training data\n",
        "    train_NRMSE_seed.append(compute_NRMSE(train_mse, t_train))\n",
        "    #validation data\n",
        "    t_valid = t[250:]\n",
        "    y_valid = y[250:]\n",
        "    #print(len(y_valid))\n",
        "    #Compute MSE on validation data\n",
        "    valid_mse = mse(y_valid,t_valid)\n",
        "    #Compute the NRMSE on validation data\n",
        "    valid_NRMSE_seed.append(compute_NRMSE(valid_mse, t_valid))\n",
        "    weight_arr_seed.append(np.sum(np.abs(W_n)<th_k))\n",
        "  train_NRMSE_k.append(train_NRMSE_seed)\n",
        "  valid_NRMSE_k.append(valid_NRMSE_seed)\n",
        "  weight_arr_k.append(weight_arr_seed)\n",
        "# Plot the results using box plots\n",
        "plt.boxplot(train_NRMSE_k)\n",
        "plt.xlabel('Value of lambda2')\n",
        "plt.ylabel('training NRMSE')\n",
        "plt.title('Training NRMSE with increasing lambda2')\n",
        "plt.show()\n",
        "\n",
        "plt.boxplot(valid_NRMSE_k)\n",
        "plt.xlabel('Value of lambda2')\n",
        "plt.ylabel('Validation NRMSE')\n",
        "plt.title('Validation NRMSE with increasing lambda2')\n",
        "plt.show()\n",
        "\n",
        "plt.boxplot(weight_arr_k)\n",
        "plt.xlabel('Value of lambda2')\n",
        "plt.ylabel('weight_arr_k')\n",
        "plt.title('weight_arr_k with increasing lambda2')\n",
        "plt.show()\n"
      ],
      "metadata": {
        "colab": {
          "base_uri": "https://localhost:8080/",
          "height": 851
        },
        "id": "GwsR3UoobP6H",
        "outputId": "f7fc3770-ef29-4423-b9d2-a33aa467d691"
      },
      "execution_count": 425,
      "outputs": [
        {
          "output_type": "display_data",
          "data": {
            "text/plain": [
              "<Figure size 432x288 with 1 Axes>"
            ],
            "image/png": "[encoded data removed]"
          },
          "metadata": {
            "needs_background": "light"
          }
        },
        {
          "output_type": "display_data",
          "data": {
            "text/plain": [
              "<Figure size 432x288 with 1 Axes>"
            ],
            "image/png": "[encoded data removed]"
          },
          "metadata": {
            "needs_background": "light"
          }
        },
        {
          "output_type": "display_data",
          "data": {
            "text/plain": [
              "<Figure size 432x288 with 1 Axes>"
            ],
            "image/png": "[encoded data removed]"
          },
          "metadata": {
            "needs_background": "light"
          }
        }
      ]
    },
    {
      "cell_type": "markdown",
      "source": [
        "**Observation:** As the lambda2 increases, error decreases for sometime, reaches an optimum value where error is minimum and then increases because, this is because all the weights approaches to 0, and away from MSE as lambda2 increases.\n",
        "\n",
        "Number of weights nearly to 0 incearses when lambda2 starts increases.\n",
        "\n",
        "**Optimum Lambda2:** 150"
      ],
      "metadata": {
        "id": "TXaJNNVfCA-F"
      }
    },
    {
      "cell_type": "markdown",
      "source": [
        "# (l)Training and validation NRMSE and number of nearly zero weights obtained using gradient descent with lambda1"
      ],
      "metadata": {
        "id": "FXhUL5Gwkecw"
      }
    },
    {
      "cell_type": "code",
      "source": [
        "#Set the random seed to ensure the reproducibility of results\n",
        "seed = 20\n",
        "#Define different lambda1\n",
        "#np.arange(start,stop,step) : Return evenly spaced values within a given interval.\n",
        "#source : https://numpy.org/doc/stable/reference/generated/numpy.linspace.html\n",
        "lam_1_train = [ 0.1, 0.5, 1, 3, 4, 5,10,20, 35, 50,100,150,200,350,500,750,1000]\n",
        "#Define the noise variance of the noise added to the target variable\n",
        "n_var = 0.05\n",
        "#Define Number of samples for data_matrix\n",
        "N = 300\n",
        "#Define feature dimension\n",
        "F = 10\n",
        "#Define lambdas\n",
        "lam_1 = 0.01\n",
        "lam_2 = 0.01\n",
        "#Define threshold such that if value of weight is less than that threshold then weight will be nearly equal to 0\n",
        "th_l = 0.1\n",
        "#Initialize arrays to store the training and validation NRMSE for each number of training samples\n",
        "train_NRMSE_l = []\n",
        "valid_NRMSE_l = []\n",
        "weight_arr_l = []\n",
        "#Loop over different lambda1\n",
        "for lam_1i in lam_1_train:\n",
        "  train_NRMSE_seed = []\n",
        "  valid_NRMSE_seed = []\n",
        "  weight_arr_seed = []\n",
        "  for i in range(seed):\n",
        "    np.random.seed(i)\n",
        "    #Generate data using previously defined functions\n",
        "    x_d = data_matrix(N,F)\n",
        "    #Define the weight vector to generate t vector\n",
        "    W_v = np.random.rand(F+1)\n",
        "    t = generate_t(x_d, W_v[1:], W_v[0], n_var)\n",
        "    #Fit the linear regression model on data using previously defined functions\n",
        "    W_n = linear_regression_gd(x_d, t, lam_1i, lam_2)[0]\n",
        "    y = linear_reg_estimate(x_d, W_n[1:]) + W_n[0]\n",
        "    #print(len(y))\n",
        "    #splitting data into training and validation\n",
        "    #training data\n",
        "    t_train = t[:250]\n",
        "    y_train = y[:250]\n",
        "    #print(len(y_train))\n",
        "    #Compute MSE on training data\n",
        "    train_mse = mse(y_train,t_train)\n",
        "    #Compute the NRMSE on training data\n",
        "    train_NRMSE_seed.append(compute_NRMSE(train_mse, t_train))\n",
        "    #validation data\n",
        "    t_valid = t[250:]\n",
        "    y_valid = y[250:]\n",
        "    #print(len(y_valid))\n",
        "    #Compute MSE on validation data\n",
        "    valid_mse = mse(y_valid,t_valid)\n",
        "    #Compute the NRMSE on validation data\n",
        "    valid_NRMSE_seed.append(compute_NRMSE(valid_mse, t_valid))\n",
        "    weight_arr_seed.append((np.sum(np.abs(W_n)<th_l)))\n",
        "  train_NRMSE_l.append(train_NRMSE_seed)\n",
        "  valid_NRMSE_l.append(valid_NRMSE_seed)\n",
        "  weight_arr_l.append(weight_arr_seed)\n",
        "# Plot the results using box plots\n",
        "plt.boxplot(train_NRMSE_l)\n",
        "plt.xlabel('Values of lambda1')\n",
        "plt.ylabel('training NRMSE')\n",
        "plt.title('Training NRMSE with increasing Values of lambda1')\n",
        "plt.show()\n",
        "\n",
        "plt.boxplot(valid_NRMSE_l)\n",
        "plt.xlabel('Values of lambda1')\n",
        "plt.ylabel('Validation NRMSE')\n",
        "plt.title('Validation NRMSE with increasing Values of lambda1')\n",
        "plt.show()\n",
        "\n",
        "plt.boxplot(weight_arr_l)\n",
        "plt.xlabel('Values of lambda1')\n",
        "plt.ylabel('weight_arr_l')\n",
        "plt.title('weight_arr_l with increasing Values of lambda1')\n",
        "plt.show()"
      ],
      "metadata": {
        "id": "bVIGU8H6kk4M",
        "colab": {
          "base_uri": "https://localhost:8080/",
          "height": 851
        },
        "outputId": "9f5e47f2-db28-4748-c7b8-12b6a675d5ba"
      },
      "execution_count": 426,
      "outputs": [
        {
          "output_type": "display_data",
          "data": {
            "text/plain": [
              "<Figure size 432x288 with 1 Axes>"
            ],
            "image/png": "[encoded data removed]"
          },
          "metadata": {
            "needs_background": "light"
          }
        },
        {
          "output_type": "display_data",
          "data": {
            "text/plain": [
              "<Figure size 432x288 with 1 Axes>"
            ],
            "image/png": "[encoded data removed]"
          },
          "metadata": {
            "needs_background": "light"
          }
        },
        {
          "output_type": "display_data",
          "data": {
            "text/plain": [
              "<Figure size 432x288 with 1 Axes>"
            ],
            "image/png": "[encoded data removed]"
          },
          "metadata": {
            "needs_background": "light"
          }
        }
      ]
    },
    {
      "cell_type": "markdown",
      "source": [
        "**Observation:** As the lambda1 increases, error decreases for sometime, reaches an optimum value where error is minimum and then increases because, this is because all the weights approaches to 0 as lambda1 increases.\n",
        "\n",
        "Number of weights nearly to 0 incearses when lambda1 starts increases as L1 norm eliminate the variables.\n",
        "\n",
        "**Optimum lambda 1:** 50"
      ],
      "metadata": {
        "id": "KygV9KcwCv3U"
      }
    },
    {
      "cell_type": "markdown",
      "source": [
        "# (m)Training and validation NRMSE for optimal lambda2 with noise variance"
      ],
      "metadata": {
        "id": "M-cTDlQplt45"
      }
    },
    {
      "cell_type": "code",
      "source": [
        "#Set the random seed to ensure the reproducibility of results\n",
        "seed = 20\n",
        "#Define different noise variance\n",
        "#np.arange(start,stop,step) : Return evenly spaced values within a given interval.\n",
        "#source : https://numpy.org/doc/stable/reference/generated/numpy.linspace.html\n",
        "n_var_train = np.arange(0.01, 5.1, 0.5)\n",
        "#Define the noise variance of the noise added to the target variable\n",
        "n_var = 0.05\n",
        "#Define Number of samples for data_matrix\n",
        "N = 300\n",
        "#Define feature dimension\n",
        "F = 10\n",
        "#Define lambdas\n",
        "lam_1 = 0.01\n",
        "op_lam_2 = 150\n",
        "#Initialize arrays to store the training and validation NRMSE for each number of training samples\n",
        "train_NRMSE_m = []\n",
        "valid_NRMSE_m = []\n",
        "#Loop over different noise variance\n",
        "for n_vari in n_var_train:\n",
        "  train_NRMSE_seed = []\n",
        "  valid_NRMSE_seed = []\n",
        "  for i in range(seed):\n",
        "    np.random.seed(i)\n",
        "    #Generate data using previously defined functions\n",
        "    x_d = data_matrix(N,F)\n",
        "    #Define the weight vector to generate t vector\n",
        "    W_v = np.random.rand(F+1)\n",
        "    t = generate_t(x_d, W_v[1:], W_v[0], n_vari)\n",
        "    #Fit the linear regression model on data using previously defined functions\n",
        "    W_n = linear_regression_gd(x_d, t, lam_1, op_lam_2)[0]\n",
        "    y = linear_reg_estimate(x_d, W_n[1:]) + W_n[0]\n",
        "    #print(len(y))\n",
        "    #splitting data into training and validation\n",
        "    #training data\n",
        "    t_train = t[:250]\n",
        "    y_train = y[:250]\n",
        "    #print(len(y_train))\n",
        "    #Compute MSE on training data\n",
        "    train_mse = mse(y_train,t_train)\n",
        "    #Compute the NRMSE on training data\n",
        "    train_NRMSE_seed.append(compute_NRMSE(train_mse, t_train))\n",
        "    #validation data\n",
        "    t_valid = t[250:]\n",
        "    y_valid = y[250:]\n",
        "    #print(len(y_valid))\n",
        "    #Compute MSE on validation data\n",
        "    valid_mse = mse(y_valid,t_valid)\n",
        "    #Compute the NRMSE on validation data\n",
        "    valid_NRMSE_seed.append(compute_NRMSE(valid_mse, t_valid))\n",
        "  train_NRMSE_m.append(train_NRMSE_seed)\n",
        "  valid_NRMSE_m.append(valid_NRMSE_seed)\n",
        "# Plot the results using box plots\n",
        "plt.boxplot(train_NRMSE_m)\n",
        "plt.xlabel('Values of noise variance')\n",
        "plt.ylabel('training NRMSE')\n",
        "plt.title('Training NRMSE with increasing Values of noise variance')\n",
        "plt.show()\n",
        "\n",
        "plt.boxplot(valid_NRMSE_m)\n",
        "plt.xlabel('Values of noise variance')\n",
        "plt.ylabel('Validation NRMSE')\n",
        "plt.title('Validation NRMSE with increasing Values of noise variance')\n",
        "plt.show()"
      ],
      "metadata": {
        "id": "UxMEKzhlmH8u",
        "colab": {
          "base_uri": "https://localhost:8080/",
          "height": 573
        },
        "outputId": "3d61c758-bcd8-426f-a09d-2e8ca9e7fd9f"
      },
      "execution_count": 427,
      "outputs": [
        {
          "output_type": "display_data",
          "data": {
            "text/plain": [
              "<Figure size 432x288 with 1 Axes>"
            ],
            "image/png": "[encoded data removed]"
          },
          "metadata": {
            "needs_background": "light"
          }
        },
        {
          "output_type": "display_data",
          "data": {
            "text/plain": [
              "<Figure size 432x288 with 1 Axes>"
            ],
            "image/png": "[encoded data removed]"
          },
          "metadata": {
            "needs_background": "light"
          }
        }
      ]
    },
    {
      "cell_type": "markdown",
      "source": [
        "**Observation:** As noise variance at optimum lambda2 increases, error also increases, because error is gaussian distribution, it increases as noise variance increases."
      ],
      "metadata": {
        "id": "chfUaWGzDuLH"
      }
    },
    {
      "cell_type": "markdown",
      "source": [
        "# (n)Training and validation NRMSE for optimal lambda1 with noise variance "
      ],
      "metadata": {
        "id": "lA9e_oC4vw4u"
      }
    },
    {
      "cell_type": "code",
      "source": [
        "#Set the random seed to ensure the reproducibility of results\n",
        "seed = 20\n",
        "#Define different number of training samples\n",
        "#np.arange(start,stop,step) : Return evenly spaced values within a given interval.\n",
        "#source : https://numpy.org/doc/stable/reference/generated/numpy.linspace.html\n",
        "n_var_train = np.arange(0.01, 5.1, 0.5)\n",
        "#Define the noise variance of the noise added to the target variable\n",
        "n_var = 0.05\n",
        "#Define Number of samples for data_matrix\n",
        "N = 300\n",
        "#Define feature dimension\n",
        "F = 10\n",
        "#Define lambdas\n",
        "op_lam_1 = 70\n",
        "lam_2 = 0.01\n",
        "#Initialize arrays to store the training and validation NRMSE for each number of training samples\n",
        "train_NRMSE_n = []\n",
        "valid_NRMSE_n = []\n",
        "#Loop over different number of training samples\n",
        "for n_vari in n_var_train:\n",
        "  train_NRMSE_seed = []\n",
        "  valid_NRMSE_seed = []\n",
        "  for i in range(seed):\n",
        "    np.random.seed(i)\n",
        "    #Generate data using previously defined functions\n",
        "    x_d = data_matrix(N,F)\n",
        "    #Define the weight vector to generate t vector\n",
        "    W_v = np.random.rand(F+1)\n",
        "    t = generate_t(x_d, W_v[1:], W_v[0], n_vari)\n",
        "    #Fit the linear regression model on data using previously defined functions\n",
        "    W_n = linear_regression_gd(x_d, t, op_lam_1, lam_2)[0]\n",
        "    y = linear_reg_estimate(x_d, W_n[1:]) + W_n[0]\n",
        "    #print(len(y))\n",
        "    #splitting data into training and validation\n",
        "    #training data\n",
        "    t_train = t[:250]\n",
        "    y_train = y[:250]\n",
        "    #print(len(y_train))\n",
        "    #Compute MSE on training data\n",
        "    train_mse = mse(y_train,t_train)\n",
        "    #Compute the NRMSE on training data\n",
        "    train_NRMSE_seed.append(compute_NRMSE(train_mse, t_train))\n",
        "    #validation data\n",
        "    t_valid = t[250:]\n",
        "    y_valid = y[250:]\n",
        "    #print(len(y_valid))\n",
        "    #Compute MSE on validation data\n",
        "    valid_mse = mse(y_valid,t_valid)\n",
        "    #Compute the NRMSE on validation data\n",
        "    valid_NRMSE_seed.append(compute_NRMSE(valid_mse, t_valid))\n",
        "  train_NRMSE_n.append(train_NRMSE_seed)\n",
        "  valid_NRMSE_n.append(valid_NRMSE_seed)\n",
        "# Plot the results using box plots\n",
        "plt.boxplot(train_NRMSE_n)\n",
        "plt.xlabel('Values of noise variance')\n",
        "plt.ylabel('training NRMSE')\n",
        "plt.title('Training NRMSE with increasing Values of noise variance')\n",
        "plt.show()\n",
        "\n",
        "plt.boxplot(valid_NRMSE_n)\n",
        "plt.xlabel('Values of noise variance')\n",
        "plt.ylabel('Validation NRMSE')\n",
        "plt.title('Validation NRMSE with increasing Values of noise variance')\n",
        "plt.show()"
      ],
      "metadata": {
        "colab": {
          "base_uri": "https://localhost:8080/",
          "height": 573
        },
        "id": "6VxWmzJtv08-",
        "outputId": "1ee7ab6f-7a4f-43d9-fa5f-df5ea8f9d220"
      },
      "execution_count": 428,
      "outputs": [
        {
          "output_type": "display_data",
          "data": {
            "text/plain": [
              "<Figure size 432x288 with 1 Axes>"
            ],
            "image/png": "[encoded data removed]"
          },
          "metadata": {
            "needs_background": "light"
          }
        },
        {
          "output_type": "display_data",
          "data": {
            "text/plain": [
              "<Figure size 432x288 with 1 Axes>"
            ],
            "image/png": "[encoded data removed]"
          },
          "metadata": {
            "needs_background": "light"
          }
        }
      ]
    },
    {
      "cell_type": "markdown",
      "source": [
        "**Observation:** As noise variance at optimum lambda1 increases, error also increases, because error is gaussian distribution, it increases as noise variance increases."
      ],
      "metadata": {
        "id": "kAkES_DeD2F8"
      }
    },
    {
      "cell_type": "markdown",
      "source": [
        "#(o) Experiment (f) but, this time with number of training samples and number of variables "
      ],
      "metadata": {
        "id": "jNCOlqbcD7BP"
      }
    },
    {
      "cell_type": "markdown",
      "source": [
        "Already done earlier"
      ],
      "metadata": {
        "id": "GyjxibQZEF0K"
      }
    },
    {
      "cell_type": "markdown",
      "source": [
        "# Q14. Write your overall learning points by doing entire assignment. \n"
      ],
      "metadata": {
        "id": "ng17qRG5Eb3W"
      }
    },
    {
      "cell_type": "markdown",
      "source": [
        "I learned following things from the assignment:\n",
        "\n",
        "\n",
        "*   It enhanced my python skills, like various functions on array, how to define various functions.\n",
        "*   It cleared some of the concepts (like gradient descent and relation with lambdas) that I wasn't able to understand properly in class because it was theoritical at that time but now since I got to implement it practically, I have much clear understanding of those things.\n",
        "*   Got to know about the seed function and boxplots\n"
      ],
      "metadata": {
        "id": "xlZmYf41E2Kg"
      }
    },
    {
      "cell_type": "markdown",
      "source": [
        "#15. Quote your references, including roll numbers of fellow students with whom you discussed. Be specific about which part was inspired by what source or which friend."
      ],
      "metadata": {
        "id": "5FkyE2c4GHQv"
      }
    },
    {
      "cell_type": "markdown",
      "source": [
        "I have written sources in comments of that part where I used them.\n",
        "\n",
        "I took help from Sanket Potdar(20D070078) for Q13."
      ],
      "metadata": {
        "id": "6-sLohd6GNTi"
      }
    }
  ]
}